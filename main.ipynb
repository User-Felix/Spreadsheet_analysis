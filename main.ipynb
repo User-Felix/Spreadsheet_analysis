{
 "cells": [
  {
   "cell_type": "code",
   "execution_count": 3,
   "metadata": {},
   "outputs": [
    {
     "name": "stdout",
     "output_type": "stream",
     "text": [
      "Requirement already satisfied: pandas in /home/codespace/.local/lib/python3.12/site-packages (2.2.3)\n",
      "Requirement already satisfied: numpy>=1.26.0 in /home/codespace/.local/lib/python3.12/site-packages (from pandas) (2.2.0)\n",
      "Requirement already satisfied: python-dateutil>=2.8.2 in /home/codespace/.local/lib/python3.12/site-packages (from pandas) (2.9.0.post0)\n",
      "Requirement already satisfied: pytz>=2020.1 in /home/codespace/.local/lib/python3.12/site-packages (from pandas) (2024.2)\n",
      "Requirement already satisfied: tzdata>=2022.7 in /home/codespace/.local/lib/python3.12/site-packages (from pandas) (2024.2)\n",
      "Requirement already satisfied: six>=1.5 in /home/codespace/.local/lib/python3.12/site-packages (from python-dateutil>=2.8.2->pandas) (1.17.0)\n",
      "Note: you may need to restart the kernel to use updated packages.\n",
      "Requirement already satisfied: matplotlib in /home/codespace/.local/lib/python3.12/site-packages (3.9.3)\n",
      "Requirement already satisfied: contourpy>=1.0.1 in /home/codespace/.local/lib/python3.12/site-packages (from matplotlib) (1.3.1)\n",
      "Requirement already satisfied: cycler>=0.10 in /home/codespace/.local/lib/python3.12/site-packages (from matplotlib) (0.12.1)\n",
      "Requirement already satisfied: fonttools>=4.22.0 in /home/codespace/.local/lib/python3.12/site-packages (from matplotlib) (4.55.3)\n",
      "Requirement already satisfied: kiwisolver>=1.3.1 in /home/codespace/.local/lib/python3.12/site-packages (from matplotlib) (1.4.7)\n",
      "Requirement already satisfied: numpy>=1.23 in /home/codespace/.local/lib/python3.12/site-packages (from matplotlib) (2.2.0)\n",
      "Requirement already satisfied: packaging>=20.0 in /home/codespace/.local/lib/python3.12/site-packages (from matplotlib) (24.2)\n",
      "Requirement already satisfied: pillow>=8 in /home/codespace/.local/lib/python3.12/site-packages (from matplotlib) (11.0.0)\n",
      "Requirement already satisfied: pyparsing>=2.3.1 in /home/codespace/.local/lib/python3.12/site-packages (from matplotlib) (3.2.0)\n",
      "Requirement already satisfied: python-dateutil>=2.7 in /home/codespace/.local/lib/python3.12/site-packages (from matplotlib) (2.9.0.post0)\n",
      "Requirement already satisfied: six>=1.5 in /home/codespace/.local/lib/python3.12/site-packages (from python-dateutil>=2.7->matplotlib) (1.17.0)\n",
      "Note: you may need to restart the kernel to use updated packages.\n",
      "Requirement already satisfied: reportlab in /home/codespace/.python/current/lib/python3.12/site-packages (4.2.5)\n",
      "Requirement already satisfied: pillow>=9.0.0 in /home/codespace/.local/lib/python3.12/site-packages (from reportlab) (11.0.0)\n",
      "Requirement already satisfied: chardet in /home/codespace/.python/current/lib/python3.12/site-packages (from reportlab) (5.2.0)\n",
      "Note: you may need to restart the kernel to use updated packages.\n"
     ]
    }
   ],
   "source": [
    "%pip install pandas\n",
    "%pip install matplotlib\n",
    "%pip install reportlab"
   ]
  },
  {
   "cell_type": "code",
   "execution_count": 5,
   "metadata": {},
   "outputs": [
    {
     "name": "stdout",
     "output_type": "stream",
     "text": [
      "2.2.3\n",
      "3.9.3\n",
      "4.2.5\n"
     ]
    }
   ],
   "source": [
    "import pandas as pd\n",
    "print(pd.__version__)\n",
    "\n",
    "import matplotlib as mpl\n",
    "print(mpl.__version__)\n",
    "\n",
    "import reportlab\n",
    "print(reportlab.__version__)"
   ]
  },
  {
   "cell_type": "code",
   "execution_count": 7,
   "metadata": {},
   "outputs": [
    {
     "name": "stdout",
     "output_type": "stream",
     "text": [
      "PDF generated successfully: weecly-sales.pdf\n"
     ]
    }
   ],
   "source": [
    "import pandas as pd \n",
    "import matplotlib.pyplot as plt \n",
    "\n",
    "# Importation for generate pdf \n",
    "from reportlab.lib.pagesizes import letter \n",
    "from reportlab.pdfgen import canvas \n",
    "from datetime import datetime \n",
    "\n",
    "# Variable that captures URL id \n",
    "sheets_id = \"158i3c_YcNS2x8qxNv0YselYRqNVvG1gXjaFgkddHgvg\" \n",
    "xsl = pd.ExcelFile(f\"https://docs.google.com/spreadsheets/d/{sheets_id}/export?format=xlsx\") \n",
    "\n",
    "# Read file \n",
    "spreadSheetsName = pd.read_excel(xsl, 'Semana_one', header=0) \n",
    "\n",
    "# Find the index where NaN values are present to separate data \n",
    "separator_index = spreadSheetsName[spreadSheetsName.isna().all(axis=1)].index[0] \n",
    "\n",
    "# Separate data dynamically based on the NaN row \n",
    "vendas = spreadSheetsName.iloc[:separator_index, :] \n",
    "cancelamentos = spreadSheetsName.iloc[separator_index+1:, :] \n",
    "\n",
    "# Rename columns for cancelamentos DataFrame \n",
    "cancelamentos.columns = ['Dias', 'Cancelamentos'] \n",
    "\n",
    "# Convert 'Cancelamentos' column to numeric, forcing errors to NaN and then filling with 0 \n",
    "cancelamentos.loc[:, 'Cancelamentos'] = pd.to_numeric(cancelamentos['Cancelamentos'], errors='coerce').fillna(0).astype(int) \n",
    "\n",
    "def create_graph(data, coloring, xLabelText, yLabelText, title, filename): \n",
    "\n",
    "    plt.figure(figsize=(10, 5)) \n",
    "    plt.bar(data[xLabelText], data[yLabelText], color=coloring) \n",
    "    plt.xlabel(xLabelText) \n",
    "    plt.ylabel(yLabelText) \n",
    "    plt.title(title) \n",
    "    plt.xticks(rotation=45, ha='right')  \n",
    "    plt.tight_layout() \n",
    "    plt.savefig(filename) \n",
    "    plt.close() \n",
    "\n",
    "def create_pdf():\n",
    "\n",
    "    # Create a PDF document\n",
    "    pdf_filename = 'weecly-sales.pdf' \n",
    "    c = canvas.Canvas(pdf_filename, pagesize=letter)\n",
    "\n",
    "    # Create and save sales chart\n",
    "    create_graph(vendas, 'blue', 'Dias', 'Vendas', 'Vendas por dia', 'sales_chart.png') \n",
    "\n",
    "    # Create and save cancellations chart\n",
    "    create_graph(cancelamentos, 'red', 'Dias', 'Cancelamentos', 'Cancelamentos por dia', 'cancellations_chart.png') \n",
    "\n",
    "    # Draw sales chart on PDF\n",
    "    c.drawImage('sales_chart.png', 10, 400, width=500, height=300) \n",
    "\n",
    "    # Draw cancellations chart on PDF\n",
    "    c.drawImage('cancellations_chart.png', 10, 100, width=500, height=300) \n",
    "\n",
    "    # Add text or elements to the PDF\n",
    "    c.drawString(10, 700, \"Sales Report - Semana One\") \n",
    "    c.drawString(10, 680, \"Generated on: \" + datetime.now().strftime(\"%Y-%m-%d %H:%M:%S\")) \n",
    "\n",
    "    # Save the PDF\n",
    "    c.save() \n",
    "\n",
    "    print(f\"PDF generated successfully: {pdf_filename}\") \n",
    "\n",
    "create_pdf()"
   ]
  }
 ],
 "metadata": {
  "kernelspec": {
   "display_name": "Python 3",
   "language": "python",
   "name": "python3"
  },
  "language_info": {
   "codemirror_mode": {
    "name": "ipython",
    "version": 3
   },
   "file_extension": ".py",
   "mimetype": "text/x-python",
   "name": "python",
   "nbconvert_exporter": "python",
   "pygments_lexer": "ipython3",
   "version": "3.12.1"
  }
 },
 "nbformat": 4,
 "nbformat_minor": 2
}
